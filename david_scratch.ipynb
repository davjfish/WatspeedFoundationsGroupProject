{
 "cells": [
  {
   "cell_type": "markdown",
   "source": [
    "# Farm product prices, crops and livestock\n",
    "https://open.canada.ca/data/en/dataset/d5614095-e77a-4cb4-a5e6-9f8bff067c9f\n",
    "Number of records: 109952\n",
    "\n",
    "### Possible questions:\n",
    "- Which products have shown the greatest change in price\n",
    "- How does production of a given product correlate with price? For example, if we looked at egg production in response to prices https://open.canada.ca/data/en/dataset/59a62325-9857-491e-8291-fe164c342e48/resource/e44d58af-e1fa-4719-966b-a69edcd4672d \n",
    "\n",
    "\n",
    "Loganberries, cranberries and blueberries, production and value\n",
    "https://open.canada.ca/data/en/dataset/896db994-8209-4a94-b4d0-37d07e1d2698\n",
    "\n",
    "\n",
    "Another idea was to explore the impact of Canadian crop prices on crop production. We would tackle this question by exploring datasets released by StatsCan / Agricultural Census. \n",
    "\n",
    "This dataset provides a time series of agricultural product prices within Canada. We would try to establish a relationship between the price of a crop and its production over time. As an example, if we decide to explore this relationship with table egg production, here is a dataset looking at egg yields over time.\n",
    "\n",
    "We can also explore rates of change in pricing for the different product types over time. \n",
    "\n"
   ],
   "metadata": {
    "collapsed": false
   },
   "id": "f6db666cc8b92323"
  },
  {
   "cell_type": "code",
   "execution_count": null,
   "outputs": [],
   "source": [],
   "metadata": {
    "collapsed": false
   },
   "id": "cf24500be3c09d16"
  },
  {
   "cell_type": "code",
   "execution_count": null,
   "outputs": [],
   "source": [],
   "metadata": {
    "collapsed": false
   },
   "id": "77a1e5744d9db4b1"
  }
 ],
 "metadata": {
  "kernelspec": {
   "display_name": "Python 3",
   "language": "python",
   "name": "python3"
  },
  "language_info": {
   "codemirror_mode": {
    "name": "ipython",
    "version": 2
   },
   "file_extension": ".py",
   "mimetype": "text/x-python",
   "name": "python",
   "nbconvert_exporter": "python",
   "pygments_lexer": "ipython2",
   "version": "2.7.6"
  }
 },
 "nbformat": 4,
 "nbformat_minor": 5
}
