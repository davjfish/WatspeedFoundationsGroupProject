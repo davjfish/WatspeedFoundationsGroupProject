{
 "cells": [
  {
   "cell_type": "markdown",
   "id": "f6db666cc8b92323",
   "metadata": {
    "collapsed": false
   },
   "source": [
    "# Analysis for Group Project\n",
    "\n",
    "### A single dataset is used for all the crop prices \n",
    "\n",
    "this dataset displays a time series of prices for different Canadian agricultural products over time.\n",
    "\n",
    "[Farm product prices, crops and livestock](https://open.canada.ca/data/en/dataset/d5614095-e77a-4cb4-a5e6-9f8bff067c9f)\n"
   ]
  },
  {
   "cell_type": "code",
   "execution_count": null,
   "id": "cf24500be3c09d16",
   "metadata": {
    "collapsed": false,
    "ExecuteTime": {
     "end_time": "2023-12-10T20:50:51.282781100Z",
     "start_time": "2023-12-10T20:50:50.173629300Z"
    }
   },
   "outputs": [],
   "source": [
    "import datetime as dt\n",
    "\n",
    "import matplotlib.pyplot as plt\n",
    "import numpy as np\n",
    "import pandas as pd\n",
    "import seaborn as sns\n",
    "import statsmodels.api as sm\n",
    "\n",
    "\n",
    "# here is a util we'll use to plot graphs of prices\n",
    "def _plot_time_series_from_df(df, x, y, z, product_name):\n",
    "    sns.lineplot(data=df, x=x, y=y, hue=z)\n",
    "    plt.title(f\"Time Series of Prices for {product_name}\")\n",
    "    plt.xlabel(\"Date\")\n",
    "    plt.ylabel(df[\"UOM\"].iloc[0])\n"
   ]
  },
  {
   "cell_type": "code",
   "execution_count": null,
   "outputs": [],
   "source": [
    "# CSV was downloaded and added to the git repo\n",
    "# Read in the prices CSV\n",
    "prices_df = pd.read_csv(\"./data/32100077.csv\")\n",
    "prices_df.head()"
   ],
   "metadata": {
    "collapsed": false,
    "ExecuteTime": {
     "start_time": "2023-12-10T20:50:50.173629300Z"
    }
   },
   "id": "c5b3fd8141187550"
  },
  {
   "cell_type": "code",
   "execution_count": null,
   "outputs": [],
   "source": [
    "# DATA PREP\n",
    "\n",
    "# if you look at the DF, there is a date column in the format of YYYY-MM\n",
    "## let's turn this into a proper datetime object \n",
    "prices_df[\"REF_DATE\"] = pd.to_datetime(prices_df[\"REF_DATE\"].apply(lambda x: dt.datetime.strptime(x, \"%Y-%m\")))\n",
    "# let's also add an integer column for Year\n",
    "## this column will be useful for grouping in our analysis\n",
    "prices_df[\"YEAR\"] = prices_df[\"REF_DATE\"].apply(lambda x: x.year)\n",
    "## convert UOM to category data type\n",
    "prices_df[\"UOM\"] = prices_df[\"UOM\"].astype(\"category\")\n",
    "## convert SCALAR_FACTOR to category data type\n",
    "prices_df[\"SCALAR_FACTOR\"] = prices_df[\"SCALAR_FACTOR\"].astype(\"category\")\n",
    "prices_df.head()\n"
   ],
   "metadata": {
    "collapsed": false,
    "ExecuteTime": {
     "start_time": "2023-12-10T20:50:50.181666900Z"
    }
   },
   "id": "29a0740b74588b66"
  },
  {
   "cell_type": "code",
   "execution_count": null,
   "outputs": [],
   "source": [
    "# let's look at the shape of the data frames\n",
    "print(prices_df.shape)"
   ],
   "metadata": {
    "collapsed": false,
    "ExecuteTime": {
     "start_time": "2023-12-10T20:50:50.181666900Z"
    }
   },
   "id": "cb23ded977d36b5d"
  },
  {
   "cell_type": "code",
   "execution_count": null,
   "id": "d589dea9a787c1fc",
   "metadata": {
    "collapsed": false,
    "ExecuteTime": {
     "start_time": "2023-12-10T20:50:50.181666900Z"
    }
   },
   "outputs": [],
   "source": [
    "# Just so that we have a comprehensive list of the different products in this dataset, let's print out a unique lit of the `Farm products` column \n",
    "\n",
    "products = pd.Series(prices_df[\"Farm products\"].sort_values().unique(), name=\"products\")\n",
    "products"
   ]
  },
  {
   "cell_type": "markdown",
   "id": "3d74faba5f6131ee",
   "metadata": {
    "collapsed": false
   },
   "source": [
    "# Part 3: Wheat\n"
   ]
  },
  {
   "cell_type": "code",
   "execution_count": null,
   "id": "cc632aab7ea210f8",
   "metadata": {
    "collapsed": false,
    "ExecuteTime": {
     "start_time": "2023-12-10T20:50:50.181666900Z"
    }
   },
   "outputs": [],
   "source": [
    "# Prices\n",
    "\n",
    "# DATA PREP\n",
    "\n",
    "# define a `products` variable that will be used to select the rows of interest\n",
    "product = \"Wheat (except durum wheat) [1121111]\"\n",
    "\n",
    "# create a boolean mask that will select chickens for meat and rows where the `VALUE` column is not null \n",
    "mask = (prices_df[\"Farm products\"] == product) & (prices_df[\"VALUE\"].notnull())\n",
    "wheat_prices_df = prices_df[mask]\n",
    "wheat_prices_df.head()"
   ]
  },
  {
   "cell_type": "code",
   "execution_count": null,
   "outputs": [],
   "source": [
    "# we need to make sure we are only dealing with a single category for UoM and Scale\n",
    "## sometimes these datasets will have the same data in a subsequent row for a different scale. e.g., `Dollars per kg` vs. `dollars per pound`.\n",
    "assert wheat_prices_df[\"Farm products\"].unique().__len__() == 1\n",
    "assert wheat_prices_df[\"UOM\"].unique().__len__() == 1\n",
    "assert wheat_prices_df[\"SCALAR_FACTOR\"].unique().__len__() == 1\n",
    "\n",
    "# if there is no exception raised, we are good to go!  "
   ],
   "metadata": {
    "collapsed": false,
    "ExecuteTime": {
     "start_time": "2023-12-10T20:50:50.191737200Z"
    }
   },
   "id": "fa515315b8a14cee"
  },
  {
   "cell_type": "markdown",
   "source": [
    "When we look at the historical prices, Newfoundland looks very different from the other provinces. It is clear that NL is distinct from the rest of the country which is comparatively in lock step. \n",
    "\n",
    "That being considered, it would make sense to exclude this province from our analysis.\n",
    "\n",
    "Furthermore, in order to work with the data, it will be easier to have all the price data aggregated into a single response. \n",
    "\n",
    "The graphs below show the three states of the data:\n",
    "\n",
    "1. The raw price data from all the provinces\n",
    "2. The raw price data from all the provinces except for NL which was excluded\n",
    "3. An aggregated price curve - the annual mean for all provinces, excluding NL\n"
   ],
   "metadata": {
    "collapsed": false
   },
   "id": "bca3d8f57239ff95"
  },
  {
   "cell_type": "code",
   "execution_count": null,
   "outputs": [],
   "source": [
    "# define the fig size\n",
    "plt.figure(figsize=(20, 8))\n",
    "\n",
    "# plot with all provinces\n",
    "plt.subplot(1, 3, 1)\n",
    "_plot_time_series_from_df(wheat_prices_df, \"REF_DATE\", \"VALUE\", \"GEO\", \"Chickens for Meat by Province, All Provinces\")\n",
    "\n",
    "# plot with all provinces, excluding newfoundland\n",
    "plt.subplot(1, 3, 2)\n",
    "mask = (wheat_prices_df[\"GEO\"] != \"Newfoundland and Labrador\")\n",
    "hog_prices_df = wheat_prices_df[mask]\n",
    "_plot_time_series_from_df(hog_prices_df, \"REF_DATE\", \"VALUE\", \"GEO\", \"Chickens for Meat by Province, Excluding NL\")\n",
    "\n",
    "# plot with all provinces, combined into a single variable\n",
    "plt.subplot(1, 3, 3)\n",
    "hog_prices_df.groupby(\"YEAR\")[\"VALUE\"].mean()\n",
    "\n",
    "# convert to time series - this will be used later on for the final analysis\n",
    "ser_hog_prices = pd.Series(\n",
    "    data=hog_prices_df.groupby(\"YEAR\")[\"VALUE\"].mean(numeric_only=True).values,\n",
    "    index=hog_prices_df.groupby(\"YEAR\").mean(numeric_only=True).index.to_series().apply(lambda x: dt.datetime.strptime(str(x), \"%Y\")),\n",
    "    name=\"prices\"\n",
    ")\n",
    "# Jeush, please take note of the transformation needed to create the index on the time series\n",
    "\n",
    "# labels for plot\n",
    "labels = {\n",
    "    \"title\": f\"Aggregated Price of Hogs in Canada ({ser_hog_prices.index.min().year}-{ser_hog_prices.index.max().year})\",\n",
    "    \"xlabel\": \"Date\",\n",
    "    \"ylabel\": \"Dollars per hundredweight\",\n",
    "}\n",
    "ser_hog_prices.plot(**labels)\n",
    "\n"
   ],
   "metadata": {
    "collapsed": false,
    "ExecuteTime": {
     "start_time": "2023-12-10T20:50:50.193764100Z"
    }
   },
   "id": "1660f9441abdd0e2"
  },
  {
   "cell_type": "markdown",
   "source": [
    "Now we need some production data. Let's use this dataset: \n",
    "[Hogs, sheep and lambs, farm and meat production](https://open.canada.ca/data/en/dataset/28a34385-92a2-4934-8899-2cc85fcc4786)"
   ],
   "metadata": {
    "collapsed": false
   },
   "id": "6d377fab92e907c8"
  },
  {
   "cell_type": "code",
   "execution_count": null,
   "outputs": [],
   "source": [
    "\n",
    "# from https://open.canada.ca/data/en/dataset/28a34385-92a2-4934-8899-2cc85fcc4786\n",
    "\n",
    "# CSV was downloaded and added to the git repo\n",
    "# This will be the response variable\n",
    "production_df = pd.read_csv(\"./data/32100126.csv\")\n",
    "\n",
    "# let's take a look\n",
    "print(production_df.shape)\n",
    "production_df.head()\n"
   ],
   "metadata": {
    "collapsed": false,
    "ExecuteTime": {
     "start_time": "2023-12-10T20:50:50.193764100Z"
    }
   },
   "id": "ea0a2e9915543956"
  },
  {
   "cell_type": "code",
   "execution_count": null,
   "outputs": [],
   "source": [
    "# DATA PREP\n",
    "\n",
    "# convert the year to a datetime obj\n",
    "production_df[\"REF_DATE\"] = pd.to_datetime(production_df[\"REF_DATE\"].apply(lambda x: dt.datetime.strptime(str(x), \"%Y\")))\n",
    "\n",
    "# again let's create a boolean mask to select the rows of interest\n",
    "mask = (\n",
    "        (production_df[\"Estimates\"] == \"Estimated farm output\") &  # let's only look at the estimated form output\n",
    "        (production_df[\"Livestock\"] == \"Hogs\") & # only the hogs\n",
    "        (production_df[\"VALUE\"].notnull())  # only rows that have production values\n",
    ")\n",
    "production_df = production_df[mask]\n",
    "print(production_df.shape)\n",
    "production_df.head()\n"
   ],
   "metadata": {
    "collapsed": false,
    "ExecuteTime": {
     "start_time": "2023-12-10T20:50:50.201792Z"
    }
   },
   "id": "6b42905dee91cf41"
  },
  {
   "cell_type": "code",
   "execution_count": null,
   "outputs": [],
   "source": [
    "# looks like we have 103 observations...\n",
    "\n",
    "# Now let's graph the time series\n",
    "ser_hog_production = pd.Series(data=production_df[\"VALUE\"].values, index=production_df[\"REF_DATE\"], name=\"production\")\n",
    "\n",
    "# the scale of the data is in thousands. Let's convert to millions\n",
    "ser_hog_production = ser_hog_production * 1e3 / 1e6\n",
    "\n",
    "plt.figure(figsize=(5, 5))\n",
    "# chicken count\n",
    "plt.subplot(1, 1, 1)\n",
    "labels = dict(\n",
    "    xlabel=\"Date\",\n",
    "    ylabel=\"Eastimated farm output, in millions\",\n",
    "    title=f\"Estimated Output of Hogs in Canada ({ser_hog_production.index.min().year}-{ser_hog_production.index.max().year})\"\n",
    ")\n",
    "ser_hog_production.plot(**labels)\n"
   ],
   "metadata": {
    "collapsed": false,
    "ExecuteTime": {
     "start_time": "2023-12-10T20:50:50.203815200Z"
    }
   },
   "id": "ebda8858fea2635a"
  },
  {
   "cell_type": "markdown",
   "source": [
    "Now that we have a time series for prices and production, let's merge them into a single dataframe.\n"
   ],
   "metadata": {
    "collapsed": false
   },
   "id": "6bc6ba699a9d0de7"
  },
  {
   "cell_type": "code",
   "execution_count": null,
   "id": "d1558c4a24384f8f",
   "metadata": {
    "collapsed": false,
    "ExecuteTime": {
     "start_time": "2023-12-10T20:50:50.203815200Z"
    }
   },
   "outputs": [],
   "source": [
    "final_df = pd.DataFrame(data={\"prices\": ser_hog_prices}).join(ser_hog_production)\n",
    "final_df['Eins'] = np.ones((len(final_df),))\n",
    "final_df = final_df.dropna()\n",
    "final_df"
   ]
  },
  {
   "cell_type": "markdown",
   "source": [
    "\n",
    "### unlike the previous dataset, there was more overlap between the two time series\n",
    "\n",
    "We have 38 rows of data that can be used in the analysis\n"
   ],
   "metadata": {
    "collapsed": false
   },
   "id": "78364792f03cf381"
  },
  {
   "cell_type": "code",
   "execution_count": null,
   "id": "67116786ce42d7ca",
   "metadata": {
    "collapsed": false,
    "ExecuteTime": {
     "start_time": "2023-12-10T20:50:50.203815200Z"
    }
   },
   "outputs": [],
   "source": [
    "\n",
    "# let's use a linear regression to explore the relationship between prices and production\n",
    "\n",
    "# a scatter plot and the OLS regression line plotted\n",
    "sns.lmplot(data=final_df, x=\"prices\", y=\"production\")\n",
    "plt.title(\"Effect of Prices on Estimated Hog Output in Canada\")\n",
    "plt.ylabel(\"Estimated farm output, in millions\")\n",
    "plt.xlabel(\"Dollars per hundredweight of meat\")"
   ]
  },
  {
   "cell_type": "code",
   "execution_count": null,
   "outputs": [],
   "source": [
    "# finally let's look at the results from the regression\n",
    "\n",
    "Y = final_df[\"production\"]\n",
    "X = final_df[['prices', 'Eins']]\n",
    "results = sm.OLS(Y, X).fit()\n",
    "results.summary()\n",
    "\n"
   ],
   "metadata": {
    "collapsed": false,
    "ExecuteTime": {
     "start_time": "2023-12-10T20:50:50.211888500Z"
    }
   },
   "id": "9feb768f6698e6a4"
  },
  {
   "cell_type": "markdown",
   "source": [
    "### linear regression results:\n",
    "\n",
    "The F-staticic for this model was `0.3441` and the chances of observing this statistic under a normal distribution is approximately 56%. Therefore, with a p-value set to 0.05, we are not in a position to reject the null hypothesis. \n",
    "\n"
   ],
   "metadata": {
    "collapsed": false
   },
   "id": "eeb3c06b6e600b6c"
  },
  {
   "cell_type": "code",
   "execution_count": null,
   "id": "303d770720dcdd63",
   "metadata": {
    "collapsed": false,
    "ExecuteTime": {
     "start_time": "2023-12-10T20:50:50.211888500Z"
    }
   },
   "outputs": [],
   "source": [
    "\n",
    "import math\n",
    "\n",
    "final_df = new_df.join(ser_chicken_per_farms).dropna()\n",
    "final_df[\"log_prices\"] = final_df[\"prices\"].apply(lambda x: math.log(x))"
   ]
  },
  {
   "cell_type": "code",
   "execution_count": null,
   "id": "a8883cc25a21540d",
   "metadata": {
    "collapsed": false,
    "ExecuteTime": {
     "start_time": "2023-12-10T20:50:50.211888500Z"
    }
   },
   "outputs": [],
   "source": [
    "\n",
    "sns.lmplot(data=final_df, x=\"prices\", y=\"counts\")\n",
    "plt.title(\"Effect of prices on number of chickens per farm\")\n"
   ]
  },
  {
   "cell_type": "code",
   "execution_count": null,
   "id": "5e86c14cfb9d3ade",
   "metadata": {
    "collapsed": false,
    "ExecuteTime": {
     "start_time": "2023-12-10T20:50:50.211888500Z"
    }
   },
   "outputs": [],
   "source": [
    "sns.lmplot(data=final_df, x=\"prices\", y=\"counts\")"
   ]
  },
  {
   "cell_type": "code",
   "execution_count": null,
   "id": "b2343cd75a831d12",
   "metadata": {
    "collapsed": false,
    "ExecuteTime": {
     "start_time": "2023-12-10T20:50:50.223947800Z"
    }
   },
   "outputs": [],
   "source": []
  },
  {
   "cell_type": "markdown",
   "id": "83de1a8d7a8876c",
   "metadata": {
    "collapsed": false
   },
   "source": [
    "\n",
    "# OK, let's do everything over again but with swine "
   ]
  },
  {
   "cell_type": "code",
   "execution_count": null,
   "id": "c37a980cd9f749",
   "metadata": {
    "collapsed": false,
    "ExecuteTime": {
     "start_time": "2023-12-10T20:50:50.223947800Z"
    }
   },
   "outputs": [],
   "source": [
    "mask = products.str.lower().str.contains(\"swine\") | products.str.lower().str.contains(\"hog\") | products.str.lower().str.contains(\"pig\")\n",
    "print(products[mask])\n",
    "# let's start with just meat\n",
    "mask = (prices_df[\"Farm products\"] == \"Hogs [111121]\") & (prices_df[\"VALUE\"].notnull())\n",
    "hog_prices_df = prices_df[mask]\n",
    "# make sure we are only dealing with a single category for UoM and Scale\n",
    "print(hog_prices_df[\"UOM\"].unique())\n",
    "print(hog_prices_df[\"SCALAR_FACTOR\"].unique())\n",
    "# view the DF\n",
    "hog_prices_df\n",
    "\n"
   ]
  },
  {
   "cell_type": "code",
   "execution_count": null,
   "id": "582ff80c8759f8af",
   "metadata": {
    "collapsed": false,
    "ExecuteTime": {
     "start_time": "2023-12-10T20:50:50.223947800Z"
    }
   },
   "outputs": [],
   "source": [
    "\n",
    "_plot_time_series_from_df(hog_prices_df, \"REF_DATE\", \"VALUE\", \"GEO\", \"Hog Prices by Province\")\n"
   ]
  },
  {
   "cell_type": "code",
   "execution_count": null,
   "id": "1d6bd315a410749e",
   "metadata": {
    "collapsed": false,
    "ExecuteTime": {
     "start_time": "2023-12-10T20:50:50.223947800Z"
    }
   },
   "outputs": [],
   "source": [
    "### again, NL is an outlier.. we should remove them\n",
    "mask = (hog_prices_df[\"GEO\"] != \"Newfoundland and Labrador\")\n",
    "hog_prices_df = hog_prices_df[mask]\n",
    "_plot_time_series_from_df(hog_prices_df, \"REF_DATE\", \"VALUE\", \"GEO\", \"Hog Prices by Province, excluding NL\")\n"
   ]
  },
  {
   "cell_type": "code",
   "execution_count": null,
   "id": "bcfa5d3830ee30e7",
   "metadata": {
    "collapsed": false,
    "ExecuteTime": {
     "start_time": "2023-12-10T20:50:50.232004800Z"
    }
   },
   "outputs": [],
   "source": [
    "# aggregate over all of canada\n",
    "\n",
    "hog_prices_df.groupby(\"YEAR\")[\"VALUE\"].mean()\n",
    "# convert to time series\n",
    "ser_hog_prices = pd.Series(\n",
    "    data=hog_prices_df.groupby(\"YEAR\")[\"VALUE\"].mean(numeric_only=True).values,\n",
    "    index=hog_prices_df.groupby(\"YEAR\").mean(numeric_only=True).index.to_series().apply(lambda x: dt.datetime.strptime(str(x), \"%Y\")),\n",
    "    name=\"prices\"\n",
    ")\n",
    "# the above is in CAD/hundredweight and should be converted to CAD/kilogram: 1 hundredweight = 45.36 kg\n",
    "ser_hog_prices = ser_hog_prices / 45.36\n",
    "ser_hog_prices"
   ]
  },
  {
   "cell_type": "code",
   "execution_count": null,
   "id": "e00bf163b7dd0fd2",
   "metadata": {
    "collapsed": false,
    "ExecuteTime": {
     "start_time": "2023-12-10T20:50:50.234027400Z"
    }
   },
   "outputs": [],
   "source": [
    "labels[\"ylabel\"] = \"Dollars per kilogram\"\n",
    "labels[\"title\"] = f\"Price of Hogs in Canada ({ser_hog_prices.index.min().year}-{ser_hog_prices.index.max().year})\"\n",
    "ser_hog_prices.plot(**labels)"
   ]
  },
  {
   "cell_type": "code",
   "execution_count": null,
   "id": "5e7e76cfc9de27d4",
   "metadata": {
    "collapsed": false,
    "ExecuteTime": {
     "start_time": "2023-12-10T20:50:50.234027400Z"
    }
   },
   "outputs": [],
   "source": [
    "# now we have to find a swine production dataset\n",
    "# from https://open.canada.ca/data/en/dataset/28a34385-92a2-4934-8899-2cc85fcc4786\n",
    "\n",
    "# This will be the response variable\n",
    "df_raw = pd.read_csv(\"./data/32100126.csv\")\n",
    "# convert the year to a datetime obj\n",
    "df_raw[\"REF_DATE\"] = pd.to_datetime(df_raw[\"REF_DATE\"].apply(lambda x: dt.datetime.strptime(str(x), \"%Y\")))\n",
    "\n",
    "mask = ((df_raw[\"Estimates\"] == \"Estimated farm output\") & (df_raw[\"Livestock\"] == \"Hogs\"))\n",
    "df_hogs_count = df_raw[mask]\n",
    "ser_hogs_count = pd.Series(data=df_hogs_count[\"VALUE\"].values, index=df_hogs_count[\"REF_DATE\"], name=\"counts\")\n",
    "ser_hogs_count = ser_hogs_count * 1e3 / 1e6\n",
    "ser_hogs_count\n"
   ]
  },
  {
   "cell_type": "code",
   "execution_count": null,
   "id": "cfcb7a77b37dc69e",
   "metadata": {
    "collapsed": false,
    "ExecuteTime": {
     "start_time": "2023-12-10T20:50:50.234027400Z"
    }
   },
   "outputs": [],
   "source": [
    "\n",
    "labels = dict(\n",
    "    xlabel=\"Date\",\n",
    "    ylabel=\"Millions of heads\",\n",
    "    title=f\"Number of Hogs Output in Canada ({ser_hogs_count.index.min().year}-{ser_hogs_count.index.max().year})\"\n",
    ")\n",
    "ser_hogs_count.plot(**labels)"
   ]
  },
  {
   "cell_type": "code",
   "execution_count": null,
   "id": "e9aa669093212722",
   "metadata": {
    "collapsed": false,
    "ExecuteTime": {
     "start_time": "2023-12-10T20:50:50.234027400Z"
    }
   },
   "outputs": [],
   "source": [
    "final_df = pd.DataFrame(data={\"prices\": ser_hog_prices}).join(ser_hogs_count).dropna()\n",
    "final_df['Eins'] = np.ones((len(final_df),))\n",
    "\n",
    "final_df\n",
    "sns.lmplot(data=final_df, x=\"prices\", y=\"counts\")"
   ]
  },
  {
   "cell_type": "code",
   "execution_count": null,
   "outputs": [],
   "source": [
    "final_df = pd.DataFrame(data={\"prices\": ser_hog_prices}).join(ser_hogs_count).dropna()\n",
    "final_df['Eins'] = np.ones((len(final_df),))\n",
    "\n",
    "final_df"
   ],
   "metadata": {
    "collapsed": false,
    "ExecuteTime": {
     "start_time": "2023-12-10T20:50:50.234027400Z"
    }
   },
   "id": "97fb30fd75805f75"
  },
  {
   "cell_type": "code",
   "execution_count": null,
   "id": "1abb177b37728a58",
   "metadata": {
    "collapsed": false,
    "ExecuteTime": {
     "start_time": "2023-12-10T20:50:50.242055200Z"
    }
   },
   "outputs": [],
   "source": [
    "Y = final_df[\"counts\"]\n",
    "X = final_df[['prices', 'Eins']]\n",
    "results = sm.OLS(Y, X).fit()\n",
    "print(results.summary())\n"
   ]
  },
  {
   "cell_type": "markdown",
   "id": "b50cb414a912149",
   "metadata": {
    "collapsed": false
   },
   "source": [
    "# finally let's look at a grain... These crops might be more responsive to fluctuations in price?"
   ]
  },
  {
   "cell_type": "code",
   "execution_count": null,
   "id": "ce0a3a0dec080d2c",
   "metadata": {
    "collapsed": false,
    "ExecuteTime": {
     "start_time": "2023-12-10T20:50:50.244131800Z"
    }
   },
   "outputs": [],
   "source": [
    "mask = products.str.lower().str.contains(\"wheat\")\n",
    "print(products[mask])\n",
    "# let's start with just meat\n",
    "mask = (prices_df[\"Farm products\"] == \"Wheat (except durum wheat) [1121111]\") & (prices_df[\"VALUE\"].notnull())\n",
    "grain_prices_df = prices_df[mask]\n",
    "grain_prices_df"
   ]
  },
  {
   "cell_type": "code",
   "execution_count": null,
   "id": "d7d0cce994d7fe9d",
   "metadata": {
    "collapsed": false,
    "ExecuteTime": {
     "start_time": "2023-12-10T20:50:50.244131800Z"
    }
   },
   "outputs": [],
   "source": [
    "_plot_time_series_from_df(grain_prices_df, \"REF_DATE\", \"VALUE\", \"GEO\", \"Wheat Prices by Province\")\n"
   ]
  },
  {
   "cell_type": "code",
   "execution_count": null,
   "id": "e99d5ddf1eaaea9c",
   "metadata": {
    "collapsed": false,
    "ExecuteTime": {
     "start_time": "2023-12-10T20:50:50.244131800Z"
    }
   },
   "outputs": [],
   "source": [
    "\n",
    "grain_prices_df.groupby(\"YEAR\")[\"VALUE\"].mean()\n",
    "# convert to time series\n",
    "ser_grain_prices = pd.Series(\n",
    "    data=grain_prices_df.groupby(\"YEAR\")[\"VALUE\"].mean(numeric_only=True).values,\n",
    "    index=grain_prices_df.groupby(\"YEAR\").mean(numeric_only=True).index.to_series().apply(lambda x: dt.datetime.strptime(str(x), \"%Y\")),\n",
    "    name=\"prices\"\n",
    ")\n",
    "# the above is in CAD/hundredweight and should be converted to CAD/kilogram: 1 hundredweight = 45.36 kg\n",
    "ser_grain_prices"
   ]
  },
  {
   "cell_type": "code",
   "execution_count": null,
   "id": "562ae34756e27868",
   "metadata": {
    "collapsed": false,
    "ExecuteTime": {
     "start_time": "2023-12-10T20:50:50.244131800Z"
    }
   },
   "outputs": [],
   "source": [
    "labels[\"ylabel\"] = \"Dollars per metric ton\"\n",
    "labels[\"title\"] = f\"Price of Wheat in Canada ({ser_grain_prices.index.min().year}-{ser_grain_prices.index.max().year})\"\n",
    "ser_grain_prices.plot(**labels)"
   ]
  },
  {
   "cell_type": "code",
   "execution_count": null,
   "id": "11f73b1f128103f0",
   "metadata": {
    "collapsed": false,
    "ExecuteTime": {
     "start_time": "2023-12-10T20:50:50.244131800Z"
    }
   },
   "outputs": [],
   "source": [
    "# now we have to find a oat production dataset\n",
    "# from https://open.canada.ca/data/en/dataset/dd8ffdfb-d9fb-4f16-be28-50632a64d95c\n",
    "\n",
    "# This will be the response variable\n",
    "df_raw = pd.read_csv(\"./data/32100015.csv\")\n",
    "# convert the year to a datetime obj\n",
    "df_raw[\"REF_DATE\"] = pd.to_datetime(df_raw[\"REF_DATE\"].apply(lambda x: dt.datetime.strptime(str(x), \"%Y-%m\")))\n",
    "df_raw[\"YEAR\"] = df_raw[\"REF_DATE\"].apply(lambda x: x.year)\n",
    "df_raw[\"MONTH\"] = df_raw[\"REF_DATE\"].apply(lambda x: x.month)\n",
    "\n",
    "# df_raw\n",
    "\n",
    "mask = df_raw[\"Type of crop\"].str.lower().str.contains(\"wheat\")\n",
    "print(df_raw[\"Type of crop\"][mask].unique())\n",
    "\n",
    "mask = ((df_raw[\"Type of crop\"] == \"Wheat, excluding durum\") & (df_raw[\"Farm supply and disposition of grains\"] == \"Production\") & (\n",
    "        df_raw[\"GEO\"] == \"Canada\") & (df_raw[\"MONTH\"] == 12))\n",
    "df_grain_count = df_raw[mask]\n",
    "\n",
    "# df_grain_count_grouped = df_grain_count.groupby(\"YEAR\").first()\n",
    "# df_grain_count_grouped\n",
    "ser_grain_prod = pd.Series(data=df_grain_count[\"VALUE\"].values, index=df_grain_count[\"REF_DATE\"], name=\"production\")\n",
    "# # ser_hogs_count = ser_hogs_count*1e3/1e6\n",
    "ser_grain_prod\n"
   ]
  },
  {
   "cell_type": "code",
   "execution_count": null,
   "id": "eb7182ccc856b2f9",
   "metadata": {
    "collapsed": false,
    "ExecuteTime": {
     "start_time": "2023-12-10T20:50:50.252241900Z"
    }
   },
   "outputs": [],
   "source": [
    "\n",
    "labels = dict(\n",
    "    xlabel=\"Date\",\n",
    "    ylabel=\"Thousands of metric tonnes\",\n",
    "    title=f\"Production of Wheat in Canada ({ser_grain_prod.index.min().year}-{ser_grain_prod.index.max().year})\"\n",
    ")\n",
    "ser_grain_prod.plot(**labels)"
   ]
  },
  {
   "cell_type": "code",
   "execution_count": null,
   "id": "b1aba6dc679a9f17",
   "metadata": {
    "collapsed": false,
    "ExecuteTime": {
     "start_time": "2023-12-10T20:50:50.254276600Z"
    }
   },
   "outputs": [],
   "source": [
    "final_df = pd.DataFrame(data={\"prices\": ser_grain_prices}).join(ser_grain_prod).dropna()\n",
    "final_df"
   ]
  },
  {
   "cell_type": "code",
   "execution_count": null,
   "id": "d7c0dab508385e59",
   "metadata": {
    "collapsed": false,
    "ExecuteTime": {
     "start_time": "2023-12-10T20:50:50.254276600Z"
    }
   },
   "outputs": [],
   "source": [
    "ser_grain_prod = ser_grain_prod.resample(\"YS\").first()\n",
    "# ser_grain_prod = ser_grain_prod.shift(-1)"
   ]
  },
  {
   "cell_type": "code",
   "execution_count": null,
   "id": "5fd46d15b5ca7ce2",
   "metadata": {
    "collapsed": false,
    "ExecuteTime": {
     "start_time": "2023-12-10T20:50:50.254276600Z"
    }
   },
   "outputs": [],
   "source": [
    "final_df = pd.DataFrame(data={\"prices\": ser_grain_prices}).join(ser_grain_prod).dropna()\n",
    "final_df['Eins'] = np.ones((len(final_df),))\n",
    "final_df"
   ]
  },
  {
   "cell_type": "code",
   "execution_count": null,
   "id": "4068d9d8f1d2013c",
   "metadata": {
    "collapsed": false,
    "ExecuteTime": {
     "start_time": "2023-12-10T20:50:50.260274800Z"
    }
   },
   "outputs": [],
   "source": [
    "sns.lmplot(data=final_df, x=\"prices\", y=\"production\")"
   ]
  },
  {
   "cell_type": "code",
   "execution_count": null,
   "id": "880a9fcaa3652550",
   "metadata": {
    "collapsed": false,
    "ExecuteTime": {
     "start_time": "2023-12-10T20:50:50.261321300Z"
    }
   },
   "outputs": [],
   "source": [
    "\n",
    "\n",
    "Y = final_df[\"production\"]\n",
    "X = final_df[['prices', 'Eins']]\n",
    "results = sm.OLS(Y, X).fit()\n",
    "print(results.summary())\n",
    "\n"
   ]
  },
  {
   "cell_type": "code",
   "execution_count": null,
   "id": "9f66f49a47c02b1e",
   "metadata": {
    "collapsed": false,
    "ExecuteTime": {
     "start_time": "2023-12-10T20:50:50.263385900Z"
    }
   },
   "outputs": [],
   "source": []
  },
  {
   "cell_type": "code",
   "execution_count": null,
   "outputs": [],
   "source": [],
   "metadata": {
    "collapsed": false,
    "ExecuteTime": {
     "start_time": "2023-12-10T20:50:50.264435300Z"
    }
   },
   "id": "a960b179684a2fa7"
  }
 ],
 "metadata": {
  "kernelspec": {
   "display_name": "Python 3 (ipykernel)",
   "language": "python",
   "name": "python3"
  },
  "language_info": {
   "codemirror_mode": {
    "name": "ipython",
    "version": 3
   },
   "file_extension": ".py",
   "mimetype": "text/x-python",
   "name": "python",
   "nbconvert_exporter": "python",
   "pygments_lexer": "ipython3",
   "version": "3.9.0"
  }
 },
 "nbformat": 4,
 "nbformat_minor": 5
}
